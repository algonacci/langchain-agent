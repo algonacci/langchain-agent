{
  "nbformat": 4,
  "nbformat_minor": 0,
  "metadata": {
    "colab": {
      "provenance": []
    },
    "kernelspec": {
      "name": "python3",
      "display_name": "Python 3"
    },
    "language_info": {
      "name": "python"
    }
  },
  "cells": [
    {
      "cell_type": "code",
      "execution_count": null,
      "metadata": {
        "id": "_BJtlTvc28GP"
      },
      "outputs": [],
      "source": [
        "!pip install -U langchain-community langgraph langchain-anthropic tavily-python langgraph-checkpoint-sqlite\n",
        "!pip install -qU langchain-openai"
      ]
    },
    {
      "cell_type": "code",
      "source": [
        "import getpass\n",
        "import os\n",
        "\n",
        "os.environ[\"TAVILY_API_KEY\"] = getpass.getpass()"
      ],
      "metadata": {
        "colab": {
          "base_uri": "https://localhost:8080/"
        },
        "id": "AA2UIS3p4LW1",
        "outputId": "a89d1604-eb9f-4214-d282-42bceb5c3b0b"
      },
      "execution_count": 2,
      "outputs": [
        {
          "name": "stdout",
          "output_type": "stream",
          "text": [
            "··········\n"
          ]
        }
      ]
    },
    {
      "cell_type": "code",
      "source": [
        "from langchain_community.tools.tavily_search import TavilySearchResults\n",
        "\n",
        "search = TavilySearchResults(max_results=2)\n",
        "search_results = search.invoke(\"what is the weather in Malang\")\n",
        "print(search_results)\n",
        "tools = [search]"
      ],
      "metadata": {
        "colab": {
          "base_uri": "https://localhost:8080/"
        },
        "id": "ON7-zUFb4TE0",
        "outputId": "c725c73c-876d-4f48-c042-5800512a4ec7"
      },
      "execution_count": 25,
      "outputs": [
        {
          "output_type": "stream",
          "name": "stdout",
          "text": [
            "[{'url': 'https://www.weatherapi.com/', 'content': \"{'location': {'name': 'Malang', 'region': 'East Java', 'country': 'Indonesia', 'lat': -8.0017, 'lon': 114.1367, 'tz_id': 'Asia/Jakarta', 'localtime_epoch': 1729058539, 'localtime': '2024-10-16 13:02'}, 'current': {'last_updated_epoch': 1729058400, 'last_updated': '2024-10-16 13:00', 'temp_c': 29.3, 'temp_f': 84.8, 'is_day': 1, 'condition': {'text': 'Partly Cloudy', 'icon': '//cdn.weatherapi.com/weather/64x64/day/116.png', 'code': 1003}, 'wind_mph': 2.2, 'wind_kph': 3.6, 'wind_degree': 200, 'wind_dir': 'SSW', 'pressure_mb': 1012.0, 'pressure_in': 29.88, 'precip_mm': 0.0, 'precip_in': 0.0, 'humidity': 34, 'cloud': 29, 'feelslike_c': 28.7, 'feelslike_f': 83.7, 'windchill_c': 29.3, 'windchill_f': 84.8, 'heatindex_c': 28.7, 'heatindex_f': 83.7, 'dewpoint_c': 12.1, 'dewpoint_f': 53.7, 'vis_km': 10.0, 'vis_miles': 6.0, 'uv': 9.6, 'gust_mph': 6.7, 'gust_kph': 10.8}}\"}, {'url': 'https://www.bbc.com/weather/1636722', 'content': '14-day weather forecast for Malang. Homepage. Accessibility links. ... Forecast - Malang. Day by day forecast. ... Low 16 ° 61°, Wind speed 10 ...'}]\n"
          ]
        }
      ]
    },
    {
      "cell_type": "code",
      "source": [
        "import getpass\n",
        "import os\n",
        "\n",
        "os.environ[\"OPENAI_API_KEY\"] = getpass.getpass()\n",
        "\n",
        "from langchain_openai import ChatOpenAI\n",
        "\n",
        "model = ChatOpenAI(model=\"gpt-4\")"
      ],
      "metadata": {
        "colab": {
          "base_uri": "https://localhost:8080/"
        },
        "id": "Ufj-NOMB4o3E",
        "outputId": "050803ce-103f-42a0-bcc8-c4de8f680af9"
      },
      "execution_count": 26,
      "outputs": [
        {
          "name": "stdout",
          "output_type": "stream",
          "text": [
            "··········\n"
          ]
        }
      ]
    },
    {
      "cell_type": "code",
      "source": [
        "from langchain_core.messages import HumanMessage\n",
        "\n",
        "response = model.invoke([HumanMessage(content=\"hi!\")])\n",
        "response.content"
      ],
      "metadata": {
        "colab": {
          "base_uri": "https://localhost:8080/",
          "height": 35
        },
        "id": "O_5Vvv894zee",
        "outputId": "39477a53-5091-45b9-b584-6feba4e96653"
      },
      "execution_count": 27,
      "outputs": [
        {
          "output_type": "execute_result",
          "data": {
            "text/plain": [
              "'Hello! How can I assist you today?'"
            ],
            "application/vnd.google.colaboratory.intrinsic+json": {
              "type": "string"
            }
          },
          "metadata": {},
          "execution_count": 27
        }
      ]
    },
    {
      "cell_type": "code",
      "source": [
        "model_with_tools = model.bind_tools(tools)"
      ],
      "metadata": {
        "id": "X4imdNrM42Pf"
      },
      "execution_count": 28,
      "outputs": []
    },
    {
      "cell_type": "code",
      "source": [
        "response = model_with_tools.invoke([HumanMessage(content=\"Hi!\")])\n",
        "\n",
        "print(f\"ContentString: {response.content}\")\n",
        "print(f\"ToolCalls: {response.tool_calls}\")"
      ],
      "metadata": {
        "colab": {
          "base_uri": "https://localhost:8080/"
        },
        "id": "GMPWzKVm4974",
        "outputId": "3311062c-e515-4581-c288-6067bca60483"
      },
      "execution_count": 29,
      "outputs": [
        {
          "output_type": "stream",
          "name": "stdout",
          "text": [
            "ContentString: Hello! How can I assist you today?\n",
            "ToolCalls: []\n"
          ]
        }
      ]
    },
    {
      "cell_type": "code",
      "source": [
        "response = model_with_tools.invoke([HumanMessage(content=\"What's the weather in Malang?\")])\n",
        "\n",
        "print(f\"ContentString: {response.content}\")\n",
        "print(f\"ToolCalls: {response.tool_calls}\")"
      ],
      "metadata": {
        "colab": {
          "base_uri": "https://localhost:8080/"
        },
        "id": "CzdVtRWC5Fsz",
        "outputId": "c55db7c5-e03c-4151-93cf-a9ef5bb8d90a"
      },
      "execution_count": 30,
      "outputs": [
        {
          "output_type": "stream",
          "name": "stdout",
          "text": [
            "ContentString: \n",
            "ToolCalls: [{'name': 'tavily_search_results_json', 'args': {'query': 'current weather in Malang'}, 'id': 'call_n6tJbdUBwEyJyBgQcf7tPz9e', 'type': 'tool_call'}]\n"
          ]
        }
      ]
    },
    {
      "cell_type": "code",
      "source": [
        "from langgraph.prebuilt import create_react_agent\n",
        "\n",
        "agent_executor = create_react_agent(model, tools)"
      ],
      "metadata": {
        "id": "PR8-zJ1x5TDn"
      },
      "execution_count": 31,
      "outputs": []
    },
    {
      "cell_type": "code",
      "source": [
        "response = agent_executor.invoke({\"messages\": [HumanMessage(content=\"hi!\")]})\n",
        "\n",
        "response[\"messages\"]"
      ],
      "metadata": {
        "colab": {
          "base_uri": "https://localhost:8080/"
        },
        "id": "JFUQKfC45Vfv",
        "outputId": "0c9b1816-be0b-4d80-9b4b-d184bfccf6bb"
      },
      "execution_count": 32,
      "outputs": [
        {
          "output_type": "execute_result",
          "data": {
            "text/plain": [
              "[HumanMessage(content='hi!', additional_kwargs={}, response_metadata={}, id='bfe91124-3467-4ac6-bf96-27fa64e6b6f4'),\n",
              " AIMessage(content='Hello! How can I assist you today?', additional_kwargs={'refusal': None}, response_metadata={'token_usage': {'completion_tokens': 10, 'prompt_tokens': 83, 'total_tokens': 93, 'completion_tokens_details': {'audio_tokens': None, 'reasoning_tokens': 0}, 'prompt_tokens_details': {'audio_tokens': None, 'cached_tokens': 0}}, 'model_name': 'gpt-4-0613', 'system_fingerprint': None, 'finish_reason': 'stop', 'logprobs': None}, id='run-163d0eeb-6fba-4133-921b-ed2cbdbec1a3-0', usage_metadata={'input_tokens': 83, 'output_tokens': 10, 'total_tokens': 93, 'input_token_details': {'cache_read': 0}, 'output_token_details': {'reasoning': 0}})]"
            ]
          },
          "metadata": {},
          "execution_count": 32
        }
      ]
    },
    {
      "cell_type": "code",
      "source": [
        "response = agent_executor.invoke(\n",
        "    {\"messages\": [HumanMessage(content=\"whats the weather in malang?\")]}\n",
        ")\n",
        "response[\"messages\"]"
      ],
      "metadata": {
        "colab": {
          "base_uri": "https://localhost:8080/"
        },
        "id": "aoh7xb2C5axC",
        "outputId": "c7fcea4a-da22-420b-a988-23c5940b4958"
      },
      "execution_count": 12,
      "outputs": [
        {
          "output_type": "execute_result",
          "data": {
            "text/plain": [
              "[HumanMessage(content='whats the weather in malang?', additional_kwargs={}, response_metadata={}, id='c8870ef8-11c9-4ee1-bc6f-5a30e299ea21'),\n",
              " AIMessage(content='', additional_kwargs={'tool_calls': [{'id': 'call_W9El2W5Vt8xfEPuIO12dWYfL', 'function': {'arguments': '{\\n  \"query\": \"current weather in Malang\"\\n}', 'name': 'tavily_search_results_json'}, 'type': 'function'}], 'refusal': None}, response_metadata={'token_usage': {'completion_tokens': 23, 'prompt_tokens': 89, 'total_tokens': 112, 'completion_tokens_details': {'audio_tokens': None, 'reasoning_tokens': 0}, 'prompt_tokens_details': {'audio_tokens': None, 'cached_tokens': 0}}, 'model_name': 'gpt-4-0613', 'system_fingerprint': None, 'finish_reason': 'tool_calls', 'logprobs': None}, id='run-4726b259-a517-4763-985a-2c146bd5d98e-0', tool_calls=[{'name': 'tavily_search_results_json', 'args': {'query': 'current weather in Malang'}, 'id': 'call_W9El2W5Vt8xfEPuIO12dWYfL', 'type': 'tool_call'}], usage_metadata={'input_tokens': 89, 'output_tokens': 23, 'total_tokens': 112, 'input_token_details': {'cache_read': 0}, 'output_token_details': {'reasoning': 0}}),\n",
              " ToolMessage(content='[{\"url\": \"https://www.weatherapi.com/\", \"content\": \"{\\'location\\': {\\'name\\': \\'Malang\\', \\'region\\': \\'East Java\\', \\'country\\': \\'Indonesia\\', \\'lat\\': -8.0017, \\'lon\\': 114.1367, \\'tz_id\\': \\'Asia/Jakarta\\', \\'localtime_epoch\\': 1729058117, \\'localtime\\': \\'2024-10-16 12:55\\'}, \\'current\\': {\\'last_updated_epoch\\': 1729057500, \\'last_updated\\': \\'2024-10-16 12:45\\', \\'temp_c\\': 29.6, \\'temp_f\\': 85.3, \\'is_day\\': 1, \\'condition\\': {\\'text\\': \\'Sunny\\', \\'icon\\': \\'//cdn.weatherapi.com/weather/64x64/day/113.png\\', \\'code\\': 1000}, \\'wind_mph\\': 2.2, \\'wind_kph\\': 3.6, \\'wind_degree\\': 183, \\'wind_dir\\': \\'S\\', \\'pressure_mb\\': 1013.0, \\'pressure_in\\': 29.9, \\'precip_mm\\': 0.0, \\'precip_in\\': 0.0, \\'humidity\\': 32, \\'cloud\\': 13, \\'feelslike_c\\': 28.7, \\'feelslike_f\\': 83.6, \\'windchill_c\\': 29.6, \\'windchill_f\\': 85.3, \\'heatindex_c\\': 28.7, \\'heatindex_f\\': 83.6, \\'dewpoint_c\\': 11.0, \\'dewpoint_f\\': 51.8, \\'vis_km\\': 10.0, \\'vis_miles\\': 6.0, \\'uv\\': 13.1, \\'gust_mph\\': 6.7, \\'gust_kph\\': 10.8}}\"}, {\"url\": \"https://world-weather.info/forecast/indonesia/malang/october-2024/\", \"content\": \"Detailed ⚡ Malang Weather Forecast for October 2024 - day/night 🌡️ temperatures, precipitations - World-Weather.info. Add the current city. Search. Weather; Archive; Widgets °F. World; Indonesia; Weather in Malang; Weather in Malang in October 2024. ... 16 +88° +73° 17 +88° +73° 18 ...\"}]', name='tavily_search_results_json', id='ab6167db-03f8-40c2-a1a3-9966ac3a7977', tool_call_id='call_W9El2W5Vt8xfEPuIO12dWYfL', artifact={'query': 'current weather in Malang', 'follow_up_questions': None, 'answer': None, 'images': [], 'results': [{'title': 'Weather in Malang', 'url': 'https://www.weatherapi.com/', 'content': \"{'location': {'name': 'Malang', 'region': 'East Java', 'country': 'Indonesia', 'lat': -8.0017, 'lon': 114.1367, 'tz_id': 'Asia/Jakarta', 'localtime_epoch': 1729058117, 'localtime': '2024-10-16 12:55'}, 'current': {'last_updated_epoch': 1729057500, 'last_updated': '2024-10-16 12:45', 'temp_c': 29.6, 'temp_f': 85.3, 'is_day': 1, 'condition': {'text': 'Sunny', 'icon': '//cdn.weatherapi.com/weather/64x64/day/113.png', 'code': 1000}, 'wind_mph': 2.2, 'wind_kph': 3.6, 'wind_degree': 183, 'wind_dir': 'S', 'pressure_mb': 1013.0, 'pressure_in': 29.9, 'precip_mm': 0.0, 'precip_in': 0.0, 'humidity': 32, 'cloud': 13, 'feelslike_c': 28.7, 'feelslike_f': 83.6, 'windchill_c': 29.6, 'windchill_f': 85.3, 'heatindex_c': 28.7, 'heatindex_f': 83.6, 'dewpoint_c': 11.0, 'dewpoint_f': 51.8, 'vis_km': 10.0, 'vis_miles': 6.0, 'uv': 13.1, 'gust_mph': 6.7, 'gust_kph': 10.8}}\", 'score': 0.9999636, 'raw_content': None}, {'title': 'Weather in Malang in October 2024 (Propinsi Jawa Timur) - Detailed ...', 'url': 'https://world-weather.info/forecast/indonesia/malang/october-2024/', 'content': 'Detailed ⚡ Malang Weather Forecast for October 2024 - day/night 🌡️ temperatures, precipitations - World-Weather.info. Add the current city. Search. Weather; Archive; Widgets °F. World; Indonesia; Weather in Malang; Weather in Malang in October 2024. ... 16 +88° +73° 17 +88° +73° 18 ...', 'score': 0.99680245, 'raw_content': None}], 'response_time': 3.12}),\n",
              " AIMessage(content='The current weather in Malang, East Java, Indonesia is sunny with a temperature of 29.6°C (85.3°F). The wind is coming from the south at a speed of 3.6 kph (2.2 mph). The humidity is at 32%. The UV index is 13.1. [Source](https://www.weatherapi.com/)', additional_kwargs={'refusal': None}, response_metadata={'token_usage': {'completion_tokens': 78, 'prompt_tokens': 642, 'total_tokens': 720, 'completion_tokens_details': {'audio_tokens': None, 'reasoning_tokens': 0}, 'prompt_tokens_details': {'audio_tokens': None, 'cached_tokens': 0}}, 'model_name': 'gpt-4-0613', 'system_fingerprint': None, 'finish_reason': 'stop', 'logprobs': None}, id='run-512ae3e0-668b-4792-9051-830995421bfb-0', usage_metadata={'input_tokens': 642, 'output_tokens': 78, 'total_tokens': 720, 'input_token_details': {'cache_read': 0}, 'output_token_details': {'reasoning': 0}})]"
            ]
          },
          "metadata": {},
          "execution_count": 12
        }
      ]
    },
    {
      "cell_type": "code",
      "source": [
        "for chunk in agent_executor.stream(\n",
        "    {\"messages\": [HumanMessage(content=\"whats the weather in malang?\")]}\n",
        "):\n",
        "    print(chunk)\n",
        "    print(\"----\")"
      ],
      "metadata": {
        "colab": {
          "base_uri": "https://localhost:8080/"
        },
        "id": "yxH08koL5kDj",
        "outputId": "b770ad2b-9d28-405a-fa85-7cc7c874d851"
      },
      "execution_count": 13,
      "outputs": [
        {
          "output_type": "stream",
          "name": "stdout",
          "text": [
            "{'agent': {'messages': [AIMessage(content='', additional_kwargs={'tool_calls': [{'id': 'call_FJL4hWz1pjx9nfA6y0WQ6ZoZ', 'function': {'arguments': '{\\n  \"query\": \"current weather in Malang\"\\n}', 'name': 'tavily_search_results_json'}, 'type': 'function'}], 'refusal': None}, response_metadata={'token_usage': {'completion_tokens': 23, 'prompt_tokens': 89, 'total_tokens': 112, 'completion_tokens_details': {'audio_tokens': None, 'reasoning_tokens': 0}, 'prompt_tokens_details': {'audio_tokens': None, 'cached_tokens': 0}}, 'model_name': 'gpt-4-0613', 'system_fingerprint': None, 'finish_reason': 'tool_calls', 'logprobs': None}, id='run-ee07cc15-6f48-4a62-a650-4cc39b09cdb4-0', tool_calls=[{'name': 'tavily_search_results_json', 'args': {'query': 'current weather in Malang'}, 'id': 'call_FJL4hWz1pjx9nfA6y0WQ6ZoZ', 'type': 'tool_call'}], usage_metadata={'input_tokens': 89, 'output_tokens': 23, 'total_tokens': 112, 'input_token_details': {'cache_read': 0}, 'output_token_details': {'reasoning': 0}})]}}\n",
            "----\n",
            "{'tools': {'messages': [ToolMessage(content='[{\"url\": \"https://www.weatherapi.com/\", \"content\": \"{\\'location\\': {\\'name\\': \\'Malang\\', \\'region\\': \\'East Java\\', \\'country\\': \\'Indonesia\\', \\'lat\\': -8.0017, \\'lon\\': 114.1367, \\'tz_id\\': \\'Asia/Jakarta\\', \\'localtime_epoch\\': 1729058117, \\'localtime\\': \\'2024-10-16 12:55\\'}, \\'current\\': {\\'last_updated_epoch\\': 1729057500, \\'last_updated\\': \\'2024-10-16 12:45\\', \\'temp_c\\': 29.6, \\'temp_f\\': 85.3, \\'is_day\\': 1, \\'condition\\': {\\'text\\': \\'Sunny\\', \\'icon\\': \\'//cdn.weatherapi.com/weather/64x64/day/113.png\\', \\'code\\': 1000}, \\'wind_mph\\': 2.2, \\'wind_kph\\': 3.6, \\'wind_degree\\': 183, \\'wind_dir\\': \\'S\\', \\'pressure_mb\\': 1013.0, \\'pressure_in\\': 29.9, \\'precip_mm\\': 0.0, \\'precip_in\\': 0.0, \\'humidity\\': 32, \\'cloud\\': 13, \\'feelslike_c\\': 28.7, \\'feelslike_f\\': 83.6, \\'windchill_c\\': 29.6, \\'windchill_f\\': 85.3, \\'heatindex_c\\': 28.7, \\'heatindex_f\\': 83.6, \\'dewpoint_c\\': 11.0, \\'dewpoint_f\\': 51.8, \\'vis_km\\': 10.0, \\'vis_miles\\': 6.0, \\'uv\\': 13.1, \\'gust_mph\\': 6.7, \\'gust_kph\\': 10.8}}\"}, {\"url\": \"https://www.weather-forecast.com/locations/Malang/forecasts/latest\", \"content\": \"12 day Malang Weather Forecast. Live Weather Warnings, hourly weather updates. ... (East Java, Indonesia) forecast issued: 6 am Mon 30 Sep 2024 local time | Updates in: hr min s | (Update ... weather stations near Malang update at the same time and we only show reports from the nearest stations that are deemed current. Weather reports submitted ...\"}]', name='tavily_search_results_json', id='96232337-1891-402a-b50c-215018b9a88d', tool_call_id='call_FJL4hWz1pjx9nfA6y0WQ6ZoZ', artifact={'query': 'current weather in Malang', 'follow_up_questions': None, 'answer': None, 'images': [], 'results': [{'title': 'Weather in Malang', 'url': 'https://www.weatherapi.com/', 'content': \"{'location': {'name': 'Malang', 'region': 'East Java', 'country': 'Indonesia', 'lat': -8.0017, 'lon': 114.1367, 'tz_id': 'Asia/Jakarta', 'localtime_epoch': 1729058117, 'localtime': '2024-10-16 12:55'}, 'current': {'last_updated_epoch': 1729057500, 'last_updated': '2024-10-16 12:45', 'temp_c': 29.6, 'temp_f': 85.3, 'is_day': 1, 'condition': {'text': 'Sunny', 'icon': '//cdn.weatherapi.com/weather/64x64/day/113.png', 'code': 1000}, 'wind_mph': 2.2, 'wind_kph': 3.6, 'wind_degree': 183, 'wind_dir': 'S', 'pressure_mb': 1013.0, 'pressure_in': 29.9, 'precip_mm': 0.0, 'precip_in': 0.0, 'humidity': 32, 'cloud': 13, 'feelslike_c': 28.7, 'feelslike_f': 83.6, 'windchill_c': 29.6, 'windchill_f': 85.3, 'heatindex_c': 28.7, 'heatindex_f': 83.6, 'dewpoint_c': 11.0, 'dewpoint_f': 51.8, 'vis_km': 10.0, 'vis_miles': 6.0, 'uv': 13.1, 'gust_mph': 6.7, 'gust_kph': 10.8}}\", 'score': 0.9721508, 'raw_content': None}, {'title': 'Malang Weather Forecast', 'url': 'https://www.weather-forecast.com/locations/Malang/forecasts/latest', 'content': '12 day Malang Weather Forecast. Live Weather Warnings, hourly weather updates. ... (East Java, Indonesia) forecast issued: 6 am Mon 30 Sep 2024 local time | Updates in: hr min s | (Update ... weather stations near Malang update at the same time and we only show reports from the nearest stations that are deemed current. Weather reports submitted ...', 'score': 0.952131, 'raw_content': None}], 'response_time': 2.48})]}}\n",
            "----\n",
            "{'agent': {'messages': [AIMessage(content='The current weather in Malang, East Java, Indonesia is sunny with a temperature of 29.6°C (85.3°F). The wind is coming from the south at a speed of 3.6 kph (2.2 mph). The humidity level is at 32%. [source](https://www.weatherapi.com/)', additional_kwargs={'refusal': None}, response_metadata={'token_usage': {'completion_tokens': 70, 'prompt_tokens': 631, 'total_tokens': 701, 'completion_tokens_details': {'audio_tokens': None, 'reasoning_tokens': 0}, 'prompt_tokens_details': {'audio_tokens': None, 'cached_tokens': 0}}, 'model_name': 'gpt-4-0613', 'system_fingerprint': None, 'finish_reason': 'stop', 'logprobs': None}, id='run-cdc6a49f-bbd4-4107-a678-9214c5c5b566-0', usage_metadata={'input_tokens': 631, 'output_tokens': 70, 'total_tokens': 701, 'input_token_details': {'cache_read': 0}, 'output_token_details': {'reasoning': 0}})]}}\n",
            "----\n"
          ]
        }
      ]
    },
    {
      "cell_type": "code",
      "source": [
        "async for event in agent_executor.astream_events(\n",
        "    {\"messages\": [HumanMessage(content=\"whats the weather in malang?\")]}, version=\"v1\"\n",
        "):\n",
        "    kind = event[\"event\"]\n",
        "    if kind == \"on_chain_start\":\n",
        "        if (\n",
        "            event[\"name\"] == \"Agent\"\n",
        "        ):  # Was assigned when creating the agent with `.with_config({\"run_name\": \"Agent\"})`\n",
        "            print(\n",
        "                f\"Starting agent: {event['name']} with input: {event['data'].get('input')}\"\n",
        "            )\n",
        "    elif kind == \"on_chain_end\":\n",
        "        if (\n",
        "            event[\"name\"] == \"Agent\"\n",
        "        ):  # Was assigned when creating the agent with `.with_config({\"run_name\": \"Agent\"})`\n",
        "            print()\n",
        "            print(\"--\")\n",
        "            print(\n",
        "                f\"Done agent: {event['name']} with output: {event['data'].get('output')['output']}\"\n",
        "            )\n",
        "    if kind == \"on_chat_model_stream\":\n",
        "        content = event[\"data\"][\"chunk\"].content\n",
        "        if content:\n",
        "            # Empty content in the context of OpenAI means\n",
        "            # that the model is asking for a tool to be invoked.\n",
        "            # So we only print non-empty content\n",
        "            print(content, end=\"\")\n",
        "    elif kind == \"on_tool_start\":\n",
        "        print(\"--\")\n",
        "        print(\n",
        "            f\"Starting tool: {event['name']} with inputs: {event['data'].get('input')}\"\n",
        "        )\n",
        "    elif kind == \"on_tool_end\":\n",
        "        print(f\"Done tool: {event['name']}\")\n",
        "        print(f\"Tool output was: {event['data'].get('output')}\")\n",
        "        print(\"--\")"
      ],
      "metadata": {
        "colab": {
          "base_uri": "https://localhost:8080/"
        },
        "id": "JP3dAEL25swa",
        "outputId": "9da42bc4-8567-48e0-802a-907b20a12cfa"
      },
      "execution_count": 33,
      "outputs": [
        {
          "output_type": "stream",
          "name": "stdout",
          "text": [
            "--\n",
            "Starting tool: tavily_search_results_json with inputs: {'query': 'current weather in Malang'}\n",
            "Done tool: tavily_search_results_json\n",
            "Tool output was: content='[{\"url\": \"https://www.weatherapi.com/\", \"content\": \"{\\'location\\': {\\'name\\': \\'Malang\\', \\'region\\': \\'East Java\\', \\'country\\': \\'Indonesia\\', \\'lat\\': -8.0017, \\'lon\\': 114.1367, \\'tz_id\\': \\'Asia/Jakarta\\', \\'localtime_epoch\\': 1729058576, \\'localtime\\': \\'2024-10-16 13:02\\'}, \\'current\\': {\\'last_updated_epoch\\': 1729058400, \\'last_updated\\': \\'2024-10-16 13:00\\', \\'temp_c\\': 29.3, \\'temp_f\\': 84.8, \\'is_day\\': 1, \\'condition\\': {\\'text\\': \\'Partly Cloudy\\', \\'icon\\': \\'//cdn.weatherapi.com/weather/64x64/day/116.png\\', \\'code\\': 1003}, \\'wind_mph\\': 2.2, \\'wind_kph\\': 3.6, \\'wind_degree\\': 200, \\'wind_dir\\': \\'SSW\\', \\'pressure_mb\\': 1012.0, \\'pressure_in\\': 29.88, \\'precip_mm\\': 0.0, \\'precip_in\\': 0.0, \\'humidity\\': 34, \\'cloud\\': 29, \\'feelslike_c\\': 28.7, \\'feelslike_f\\': 83.7, \\'windchill_c\\': 29.3, \\'windchill_f\\': 84.8, \\'heatindex_c\\': 28.7, \\'heatindex_f\\': 83.7, \\'dewpoint_c\\': 12.1, \\'dewpoint_f\\': 53.7, \\'vis_km\\': 10.0, \\'vis_miles\\': 6.0, \\'uv\\': 9.6, \\'gust_mph\\': 6.7, \\'gust_kph\\': 10.8}}\"}, {\"url\": \"https://www.timeanddate.com/weather/indonesia/malang/ext\", \"content\": \"Malang 14 Day Extended Forecast. Weather Today Weather Hourly 14 Day Forecast Yesterday/Past Weather Climate (Averages) Currently: 86 °F. Passing clouds. (Weather station: Surabaya / Juanda, Indonesia). See more current weather.\"}]' name='tavily_search_results_json' tool_call_id='call_XUVOYuJVzNY54kwB63yLrP69' artifact={'query': 'current weather in Malang', 'follow_up_questions': None, 'answer': None, 'images': [], 'results': [{'title': 'Weather in Malang', 'url': 'https://www.weatherapi.com/', 'content': \"{'location': {'name': 'Malang', 'region': 'East Java', 'country': 'Indonesia', 'lat': -8.0017, 'lon': 114.1367, 'tz_id': 'Asia/Jakarta', 'localtime_epoch': 1729058576, 'localtime': '2024-10-16 13:02'}, 'current': {'last_updated_epoch': 1729058400, 'last_updated': '2024-10-16 13:00', 'temp_c': 29.3, 'temp_f': 84.8, 'is_day': 1, 'condition': {'text': 'Partly Cloudy', 'icon': '//cdn.weatherapi.com/weather/64x64/day/116.png', 'code': 1003}, 'wind_mph': 2.2, 'wind_kph': 3.6, 'wind_degree': 200, 'wind_dir': 'SSW', 'pressure_mb': 1012.0, 'pressure_in': 29.88, 'precip_mm': 0.0, 'precip_in': 0.0, 'humidity': 34, 'cloud': 29, 'feelslike_c': 28.7, 'feelslike_f': 83.7, 'windchill_c': 29.3, 'windchill_f': 84.8, 'heatindex_c': 28.7, 'heatindex_f': 83.7, 'dewpoint_c': 12.1, 'dewpoint_f': 53.7, 'vis_km': 10.0, 'vis_miles': 6.0, 'uv': 9.6, 'gust_mph': 6.7, 'gust_kph': 10.8}}\", 'score': 0.9968698, 'raw_content': None}, {'title': 'Malang, Java, Indonesia 14 day weather forecast - timeanddate.com', 'url': 'https://www.timeanddate.com/weather/indonesia/malang/ext', 'content': 'Malang 14 Day Extended Forecast. Weather Today Weather Hourly 14 Day Forecast Yesterday/Past Weather Climate (Averages) Currently: 86 °F. Passing clouds. (Weather station: Surabaya / Juanda, Indonesia). See more current weather.', 'score': 0.9899476, 'raw_content': None}], 'response_time': 3.1}\n",
            "--\n",
            "The current weather in Malang, East Java, Indonesia is partly cloudy with a temperature of 29.3°C (84.8°F). The wind is blowing from the SSW at a speed of 3.6 kph (2.2 mph). The humidity is 34% and the visibility is 10.0 km (6.0 miles). There is no precipitation at the moment. [source](https://www.weatherapi.com/)"
          ]
        }
      ]
    },
    {
      "cell_type": "code",
      "source": [
        "from langgraph.checkpoint.memory import MemorySaver\n",
        "\n",
        "memory = MemorySaver()"
      ],
      "metadata": {
        "id": "pegFdkEw6tte"
      },
      "execution_count": 19,
      "outputs": []
    },
    {
      "cell_type": "code",
      "source": [
        "agent_executor = create_react_agent(model, tools, checkpointer=memory)\n",
        "\n",
        "config = {\"configurable\": {\"thread_id\": \"abc123\"}}"
      ],
      "metadata": {
        "id": "WjAYjnx56u-B"
      },
      "execution_count": 20,
      "outputs": []
    },
    {
      "cell_type": "code",
      "source": [
        "for chunk in agent_executor.stream(\n",
        "    {\"messages\": [HumanMessage(content=\"hi im bob!\")]}, config\n",
        "):\n",
        "    print(chunk)\n",
        "    print(\"----\")"
      ],
      "metadata": {
        "colab": {
          "base_uri": "https://localhost:8080/"
        },
        "id": "HZT-jDRh6w41",
        "outputId": "10592eec-3a98-4dbd-a972-2402b7a9f817"
      },
      "execution_count": 21,
      "outputs": [
        {
          "output_type": "stream",
          "name": "stdout",
          "text": [
            "{'agent': {'messages': [AIMessage(content='Hello Bob! How can I assist you today?', additional_kwargs={'refusal': None}, response_metadata={'token_usage': {'completion_tokens': 11, 'prompt_tokens': 85, 'total_tokens': 96, 'completion_tokens_details': {'audio_tokens': None, 'reasoning_tokens': 0}, 'prompt_tokens_details': {'audio_tokens': None, 'cached_tokens': 0}}, 'model_name': 'gpt-4-0613', 'system_fingerprint': None, 'finish_reason': 'stop', 'logprobs': None}, id='run-1ef922fa-5c75-427a-be93-24284c0c9aea-0', usage_metadata={'input_tokens': 85, 'output_tokens': 11, 'total_tokens': 96, 'input_token_details': {'cache_read': 0}, 'output_token_details': {'reasoning': 0}})]}}\n",
            "----\n"
          ]
        }
      ]
    },
    {
      "cell_type": "code",
      "source": [
        "for chunk in agent_executor.stream(\n",
        "    {\"messages\": [HumanMessage(content=\"whats my name?\")]}, config\n",
        "):\n",
        "    print(chunk)\n",
        "    print(\"----\")"
      ],
      "metadata": {
        "colab": {
          "base_uri": "https://localhost:8080/"
        },
        "id": "knRhvnDo6zr-",
        "outputId": "39307dcf-d121-411a-d103-386644edfd61"
      },
      "execution_count": 22,
      "outputs": [
        {
          "output_type": "stream",
          "name": "stdout",
          "text": [
            "{'agent': {'messages': [AIMessage(content='Your name is Bob.', additional_kwargs={'refusal': None}, response_metadata={'token_usage': {'completion_tokens': 6, 'prompt_tokens': 108, 'total_tokens': 114, 'completion_tokens_details': {'audio_tokens': None, 'reasoning_tokens': 0}, 'prompt_tokens_details': {'audio_tokens': None, 'cached_tokens': 0}}, 'model_name': 'gpt-4-0613', 'system_fingerprint': None, 'finish_reason': 'stop', 'logprobs': None}, id='run-5baac4ee-4dd3-43b2-8283-6028790b87ec-0', usage_metadata={'input_tokens': 108, 'output_tokens': 6, 'total_tokens': 114, 'input_token_details': {'cache_read': 0}, 'output_token_details': {'reasoning': 0}})]}}\n",
            "----\n"
          ]
        }
      ]
    },
    {
      "cell_type": "code",
      "source": [
        "config = {\"configurable\": {\"thread_id\": \"xyz123\"}}\n",
        "for chunk in agent_executor.stream(\n",
        "    {\"messages\": [HumanMessage(content=\"whats my name?\")]}, config\n",
        "):\n",
        "    print(chunk)\n",
        "    print(\"----\")"
      ],
      "metadata": {
        "colab": {
          "base_uri": "https://localhost:8080/"
        },
        "id": "DHOxmXRp62qi",
        "outputId": "dd06f983-671d-43f3-b4b9-526bea46f433"
      },
      "execution_count": 23,
      "outputs": [
        {
          "output_type": "stream",
          "name": "stdout",
          "text": [
            "{'agent': {'messages': [AIMessage(content=\"As an AI, I don't have access to personal data about individuals unless it has been shared with me in the course of our conversation. I am designed to respect user privacy and confidentiality.\", additional_kwargs={'refusal': None}, response_metadata={'token_usage': {'completion_tokens': 39, 'prompt_tokens': 86, 'total_tokens': 125, 'completion_tokens_details': {'audio_tokens': None, 'reasoning_tokens': 0}, 'prompt_tokens_details': {'audio_tokens': None, 'cached_tokens': 0}}, 'model_name': 'gpt-4-0613', 'system_fingerprint': None, 'finish_reason': 'stop', 'logprobs': None}, id='run-8a127173-550e-4387-875a-0e116a0d4133-0', usage_metadata={'input_tokens': 86, 'output_tokens': 39, 'total_tokens': 125, 'input_token_details': {'cache_read': 0}, 'output_token_details': {'reasoning': 0}})]}}\n",
            "----\n"
          ]
        }
      ]
    }
  ]
}